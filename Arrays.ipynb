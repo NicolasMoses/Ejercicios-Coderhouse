{
 "cells": [
  {
   "cell_type": "code",
   "execution_count": 1,
   "id": "a3d85e5b",
   "metadata": {},
   "outputs": [],
   "source": [
    "# Importo la libreria Numpy:\n",
    "import numpy as np"
   ]
  },
  {
   "cell_type": "markdown",
   "id": "56c1ea78",
   "metadata": {},
   "source": [
    "# Ejercicio 1:\n",
    "\n",
    "Generar un array aleatorio de 100 elementos. Calcular la mediana correspondiente."
   ]
  },
  {
   "cell_type": "code",
   "execution_count": 2,
   "id": "e2d8a559",
   "metadata": {},
   "outputs": [
    {
     "data": {
      "text/plain": [
       "array([16, 64, 66, 42, 94, 21, 32, 11, 53, 80, 96, 49, 82, 45, 39, 88, 25,\n",
       "       33, 16, 85,  6,  8,  5, 22,  4, 14, 13,  6, 25, 96, 99, 49, 16, 23,\n",
       "       35, 87, 37, 21,  0, 59, 67, 84, 23, 56,  7, 84, 85, 26, 89, 20, 16,\n",
       "       65, 78, 81, 72, 25, 53, 32, 42, 26, 31, 12, 70, 39, 89, 52, 23, 51,\n",
       "       15, 78, 60, 87,  4, 60, 22, 74, 29, 70, 26, 45,  9, 90,  9, 98, 15,\n",
       "       49, 14, 31,  4, 53, 92,  8, 11, 68, 87, 24, 52, 81, 47, 89])"
      ]
     },
     "execution_count": 2,
     "metadata": {},
     "output_type": "execute_result"
    }
   ],
   "source": [
    "# Generamos el array aleatorio de 100 numeros entre 0 y 99:\n",
    "array_aleatorio = np.random.randint (100, size = 100)\n",
    "array_aleatorio"
   ]
  },
  {
   "cell_type": "code",
   "execution_count": 3,
   "id": "df5d2c69",
   "metadata": {},
   "outputs": [
    {
     "data": {
      "text/plain": [
       "42.0"
      ]
     },
     "execution_count": 3,
     "metadata": {},
     "output_type": "execute_result"
    }
   ],
   "source": [
    "# Calculamos la mediana del array utilizando el metodo np.median. Lo hago en una celda diferente asi queda definida la \n",
    "# variable array_aleatorio y no cambia cada ves que corro esta celda:\n",
    "np.median(array_aleatorio)"
   ]
  },
  {
   "cell_type": "code",
   "execution_count": 4,
   "id": "a99a5f0a",
   "metadata": {},
   "outputs": [
    {
     "data": {
      "text/plain": [
       "array([ 0,  4,  4,  4,  5,  6,  6,  7,  8,  8,  9,  9, 11, 11, 12, 13, 14,\n",
       "       14, 15, 15, 16, 16, 16, 16, 20, 21, 21, 22, 22, 23, 23, 23, 24, 25,\n",
       "       25, 25, 26, 26, 26, 29, 31, 31, 32, 32, 33, 35, 37, 39, 39, 42, 42,\n",
       "       45, 45, 47, 49, 49, 49, 51, 52, 52, 53, 53, 53, 56, 59, 60, 60, 64,\n",
       "       65, 66, 67, 68, 70, 70, 72, 74, 78, 78, 80, 81, 81, 82, 84, 84, 85,\n",
       "       85, 87, 87, 87, 88, 89, 89, 89, 90, 92, 94, 96, 96, 98, 99])"
      ]
     },
     "execution_count": 4,
     "metadata": {},
     "output_type": "execute_result"
    }
   ],
   "source": [
    "# Como 100 es un número par, la mediana va a salir de calcular el promedio de los 2 valores que se encuentren en el medio\n",
    "# del array, ordenado ascendente o descendente:\n",
    "array_aleatorio_ordenado = np.sort(array_aleatorio)\n",
    "array_aleatorio_ordenado"
   ]
  },
  {
   "cell_type": "code",
   "execution_count": 5,
   "id": "5172cfbf",
   "metadata": {},
   "outputs": [
    {
     "name": "stdout",
     "output_type": "stream",
     "text": [
      "Prueba exitosa!\n"
     ]
    }
   ],
   "source": [
    "# Como función de prueba voy a calcular el promedio de los 2 valores del medio del array ordenado, y verificar si es igual\n",
    "# al calculado previamente. La ubicación de los 2 valores va a ser 49 y 50:\n",
    "mediana = (array_aleatorio_ordenado[49] + array_aleatorio_ordenado[50])/2\n",
    "if mediana == np.median(array_aleatorio):\n",
    "    print('Prueba exitosa!')\n",
    "else:\n",
    "    print('Prueba fallida')"
   ]
  },
  {
   "cell_type": "markdown",
   "id": "f4836d80",
   "metadata": {},
   "source": [
    "# Ejercicio 2:\n",
    "\n",
    "Usar métodos de Numpy para calcular el factorial de un número y la suma de una serie de números (todos los números naturales entre 0 y dicho valor)."
   ]
  },
  {
   "cell_type": "code",
   "execution_count": 23,
   "id": "9e65ab4e",
   "metadata": {},
   "outputs": [
    {
     "data": {
      "text/plain": [
       "24"
      ]
     },
     "execution_count": 23,
     "metadata": {},
     "output_type": "execute_result"
    }
   ],
   "source": [
    "# Utilizo la funcion factorial para calcular factoriales:\n",
    "np.math.factorial(4)"
   ]
  },
  {
   "cell_type": "code",
   "execution_count": 12,
   "id": "eb5a4657",
   "metadata": {},
   "outputs": [
    {
     "name": "stdout",
     "output_type": "stream",
     "text": [
      "Prueba exitosa!\n"
     ]
    }
   ],
   "source": [
    "# Uso una función de prueba para confirmar si la función esta bien:\n",
    "if np.math.factorial(6) == 6*5*4*3*2:\n",
    "    print('Prueba exitosa!')\n",
    "else:\n",
    "    print('Prueba fallida')"
   ]
  },
  {
   "cell_type": "code",
   "execution_count": 33,
   "id": "e32ad408",
   "metadata": {},
   "outputs": [],
   "source": [
    "# Creo una función que va a realizar la suma de todos los numeros naturales entre 2 valores, utilizando la función np.sum\n",
    "# Primero defino la función. Los inputs a y b van a ser los valores entre los que se va a realizar la suma (incluyendo\n",
    "# a y b):\n",
    "def funcion(a,b):\n",
    "    # luego defino una variable auxiliar aux, que va a generar el array de todos los numeros que quiero sumar:\n",
    "    aux = np.array(range(a,b+1))\n",
    "    # imprimo la variable auxiliar para confimar que este generando el array buscado:\n",
    "    print(aux)\n",
    "    # Deifno el output de la función, que va a ser la suma de todos los valores dentro de array:\n",
    "    return (np.sum(aux))"
   ]
  },
  {
   "cell_type": "code",
   "execution_count": 34,
   "id": "2aacea68",
   "metadata": {},
   "outputs": [
    {
     "name": "stdout",
     "output_type": "stream",
     "text": [
      "[1 2 3]\n"
     ]
    },
    {
     "data": {
      "text/plain": [
       "6"
      ]
     },
     "execution_count": 34,
     "metadata": {},
     "output_type": "execute_result"
    }
   ],
   "source": [
    "funcion(1,3)"
   ]
  },
  {
   "cell_type": "code",
   "execution_count": 35,
   "id": "6df566d8",
   "metadata": {},
   "outputs": [
    {
     "name": "stdout",
     "output_type": "stream",
     "text": [
      "[2 3 4 5 6 7]\n",
      "Prueba exitosa!\n"
     ]
    }
   ],
   "source": [
    "# Funcion de prueba para confirmar que este funcionando bien:\n",
    "if funcion(2,7) == 2+3+4+5+6+7:\n",
    "    print('Prueba exitosa!')\n",
    "else:\n",
    "    print('Prueba fallida')"
   ]
  },
  {
   "cell_type": "code",
   "execution_count": null,
   "id": "e6eef493",
   "metadata": {},
   "outputs": [],
   "source": []
  }
 ],
 "metadata": {
  "kernelspec": {
   "display_name": "Python 3",
   "language": "python",
   "name": "python3"
  },
  "language_info": {
   "codemirror_mode": {
    "name": "ipython",
    "version": 3
   },
   "file_extension": ".py",
   "mimetype": "text/x-python",
   "name": "python",
   "nbconvert_exporter": "python",
   "pygments_lexer": "ipython3",
   "version": "3.8.8"
  }
 },
 "nbformat": 4,
 "nbformat_minor": 5
}
