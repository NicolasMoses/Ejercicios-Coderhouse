{
 "cells": [
  {
   "cell_type": "markdown",
   "id": "b4ebfce8",
   "metadata": {},
   "source": [
    "# Ejercicio 1:\n",
    "\n",
    "Escribir una función para calcular el factorial de un número cualquiera."
   ]
  },
  {
   "cell_type": "code",
   "execution_count": 1,
   "id": "7faba074",
   "metadata": {},
   "outputs": [],
   "source": [
    "# Funcion que calcula factorial. Se calcula el factorial sobre x:\n",
    "def factorial(x):\n",
    "    if x >= 0:\n",
    "        fact = 1 \n",
    "        for i in range (1,x+1):\n",
    "            fact *= i\n",
    "            i += 1\n",
    "        return(fact)\n",
    "    else:\n",
    "        return('No es posible calcularlo :(') # Imprimo un error en el \n",
    "                                                #caso de utilizar un numero negativo como input"
   ]
  },
  {
   "cell_type": "code",
   "execution_count": 2,
   "id": "e22cfbc5",
   "metadata": {},
   "outputs": [
    {
     "name": "stdout",
     "output_type": "stream",
     "text": [
      "Prueba exitosa!\n"
     ]
    }
   ],
   "source": [
    "# Prueba:\n",
    "if factorial (5) == 5*4*3*2*1:\n",
    "    print ('Prueba exitosa!')\n",
    "else:\n",
    "    print('Prueba fallida')"
   ]
  },
  {
   "cell_type": "code",
   "execution_count": 3,
   "id": "258be95e",
   "metadata": {},
   "outputs": [
    {
     "data": {
      "text/plain": [
       "'No es posible calcularlo :('"
      ]
     },
     "execution_count": 3,
     "metadata": {},
     "output_type": "execute_result"
    }
   ],
   "source": [
    "factorial (-1)"
   ]
  },
  {
   "cell_type": "code",
   "execution_count": 4,
   "id": "4e44df72",
   "metadata": {},
   "outputs": [],
   "source": [
    "# Misma función con valores de prueba, imprimiendo i y fact en diferentes partes del loop para confirmar que se esta\n",
    "# desarrollando como espero:\n",
    "def factorial_prueba(x):\n",
    "    if x >= 0:\n",
    "        fact = 1\n",
    "        print(str(fact) +' Valor fact antes de comenzar el loop')\n",
    "        for i in range (1,x+1):\n",
    "            fact *= i\n",
    "            print(str(fact) + ' Valor de fact luego de incorporar i')\n",
    "            i += 1\n",
    "            print(str(i) + ' Valor de i luego de elevar en uno su valor, al final del loop')\n",
    "        return(str(fact) + ', output final de la función')\n",
    "    else:\n",
    "        return('No es posible calcularlo :(')"
   ]
  },
  {
   "cell_type": "code",
   "execution_count": 5,
   "id": "f72df42d",
   "metadata": {},
   "outputs": [
    {
     "name": "stdout",
     "output_type": "stream",
     "text": [
      "1 Valor fact antes de comenzar el loop\n",
      "1 Valor de fact luego de incorporar i\n",
      "2 Valor de i luego de elevar en uno su valor, al final del loop\n",
      "2 Valor de fact luego de incorporar i\n",
      "3 Valor de i luego de elevar en uno su valor, al final del loop\n",
      "6 Valor de fact luego de incorporar i\n",
      "4 Valor de i luego de elevar en uno su valor, al final del loop\n",
      "24 Valor de fact luego de incorporar i\n",
      "5 Valor de i luego de elevar en uno su valor, al final del loop\n"
     ]
    },
    {
     "data": {
      "text/plain": [
       "'24, output final de la función'"
      ]
     },
     "execution_count": 5,
     "metadata": {},
     "output_type": "execute_result"
    }
   ],
   "source": [
    "factorial_prueba(4)"
   ]
  },
  {
   "cell_type": "code",
   "execution_count": 6,
   "id": "314952f2",
   "metadata": {},
   "outputs": [],
   "source": [
    "# Otra manera:\n",
    "def factorial2 (y):\n",
    "    if y >= 0:\n",
    "        i = 1\n",
    "        fact = 1\n",
    "        while i <= y:\n",
    "            fact *= i\n",
    "            i += 1\n",
    "        return (fact)\n",
    "    else:\n",
    "        return('No es posible calcularlo :(')"
   ]
  },
  {
   "cell_type": "code",
   "execution_count": 7,
   "id": "700fa916",
   "metadata": {},
   "outputs": [
    {
     "name": "stdout",
     "output_type": "stream",
     "text": [
      "Prueba exitosa!\n"
     ]
    }
   ],
   "source": [
    "if factorial2 (5) == 5*4*3*2*1:\n",
    "    print ('Prueba exitosa!')\n",
    "else:\n",
    "    print('Prueba fallida')"
   ]
  },
  {
   "cell_type": "code",
   "execution_count": 8,
   "id": "e7b0edc3",
   "metadata": {},
   "outputs": [
    {
     "data": {
      "text/plain": [
       "'No es posible calcularlo :('"
      ]
     },
     "execution_count": 8,
     "metadata": {},
     "output_type": "execute_result"
    }
   ],
   "source": [
    "factorial2 (-2)"
   ]
  },
  {
   "cell_type": "markdown",
   "id": "41b62411",
   "metadata": {},
   "source": [
    "# Ejercicio 2:\n",
    "\n",
    "Escribir una función para calcular la suma de una serie comenzando por un\n",
    "número cualquiera y terminando en otro número que debe ser mayor al primero."
   ]
  },
  {
   "cell_type": "code",
   "execution_count": 9,
   "id": "00bd150f",
   "metadata": {},
   "outputs": [],
   "source": [
    "# Funcion que va a calcular la suma de todos los numeros de la serie \n",
    "#comprendida entre a, b y todos los numeros naturales que haya en el medio:\n",
    "def suma_serie (a,b):\n",
    "    if a < b:\n",
    "        suma = 0\n",
    "        for i in range (a,b+1):\n",
    "            suma += i\n",
    "            i += 1\n",
    "        return (suma)\n",
    "    else:\n",
    "        return ('No es posible calcularlo :(')"
   ]
  },
  {
   "cell_type": "code",
   "execution_count": 10,
   "id": "83008daa",
   "metadata": {},
   "outputs": [
    {
     "name": "stdout",
     "output_type": "stream",
     "text": [
      "Prueba exitosa!\n"
     ]
    }
   ],
   "source": [
    "# Prueba de la funcion\n",
    "if suma_serie (2,6) == 2+3+4+5+6:\n",
    "    print ('Prueba exitosa!')\n",
    "else:\n",
    "    print('Prueba fallida')"
   ]
  },
  {
   "cell_type": "code",
   "execution_count": 11,
   "id": "5da4d889",
   "metadata": {},
   "outputs": [
    {
     "data": {
      "text/plain": [
       "'No es posible calcularlo :('"
      ]
     },
     "execution_count": 11,
     "metadata": {},
     "output_type": "execute_result"
    }
   ],
   "source": [
    "suma_serie (5,2)"
   ]
  },
  {
   "cell_type": "code",
   "execution_count": 12,
   "id": "0dafacc1",
   "metadata": {},
   "outputs": [
    {
     "data": {
      "text/plain": [
       "'No es posible calcularlo :('"
      ]
     },
     "execution_count": 12,
     "metadata": {},
     "output_type": "execute_result"
    }
   ],
   "source": [
    "suma_serie (2,2)"
   ]
  },
  {
   "cell_type": "code",
   "execution_count": 13,
   "id": "d16830b8",
   "metadata": {},
   "outputs": [],
   "source": [
    "# Misma función con valores de prueba, imprimiendo i y suma en diferentes \n",
    "# partes del loop para confirmar que se esta desarrollando como espero:\n",
    "def suma_serie_prueba (a,b):\n",
    "    if a < b:\n",
    "        suma = 0\n",
    "        print(str(suma) +' Valor suma antes de comenzar el loop')\n",
    "        for i in range (a,b+1):\n",
    "            suma += i\n",
    "            print(str(suma) +' Valor de suma luego de incorporar i')\n",
    "            i += 1\n",
    "            print(str(i) + ' Valor de i luego de elevar en uno su valor, al final del loop')\n",
    "        return(str(suma) + ', output final de la función')\n",
    "    else:\n",
    "        return ('No es posible calcularlo :(')"
   ]
  },
  {
   "cell_type": "code",
   "execution_count": 14,
   "id": "0ca00ef7",
   "metadata": {},
   "outputs": [
    {
     "name": "stdout",
     "output_type": "stream",
     "text": [
      "0 Valor suma antes de comenzar el loop\n",
      "2 Valor de suma luego de incorporar i\n",
      "3 Valor de i luego de elevar en uno su valor, al final del loop\n",
      "5 Valor de suma luego de incorporar i\n",
      "4 Valor de i luego de elevar en uno su valor, al final del loop\n",
      "9 Valor de suma luego de incorporar i\n",
      "5 Valor de i luego de elevar en uno su valor, al final del loop\n",
      "14 Valor de suma luego de incorporar i\n",
      "6 Valor de i luego de elevar en uno su valor, al final del loop\n",
      "20 Valor de suma luego de incorporar i\n",
      "7 Valor de i luego de elevar en uno su valor, al final del loop\n",
      "27 Valor de suma luego de incorporar i\n",
      "8 Valor de i luego de elevar en uno su valor, al final del loop\n"
     ]
    },
    {
     "data": {
      "text/plain": [
       "'27, output final de la función'"
      ]
     },
     "execution_count": 14,
     "metadata": {},
     "output_type": "execute_result"
    }
   ],
   "source": [
    "suma_serie_prueba (2,7)"
   ]
  },
  {
   "cell_type": "code",
   "execution_count": null,
   "id": "33fc2652",
   "metadata": {},
   "outputs": [],
   "source": []
  }
 ],
 "metadata": {
  "kernelspec": {
   "display_name": "Python 3",
   "language": "python",
   "name": "python3"
  },
  "language_info": {
   "codemirror_mode": {
    "name": "ipython",
    "version": 3
   },
   "file_extension": ".py",
   "mimetype": "text/x-python",
   "name": "python",
   "nbconvert_exporter": "python",
   "pygments_lexer": "ipython3",
   "version": "3.8.8"
  }
 },
 "nbformat": 4,
 "nbformat_minor": 5
}
